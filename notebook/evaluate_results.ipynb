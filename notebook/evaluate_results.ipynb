# Evaluate YOLOv3 results and visualize predictions
import os
from PIL import Image
import matplotlib.pyplot as plt

result_dir = 'runs/detect/predict'
images = [f for f in os.listdir(result_dir) if f.endswith('.jpg') or f.endswith('.png')]

for img_file in images[:10]:  # show first 10 predictions
    img = Image.open(os.path.join(result_dir, img_file))
    plt.figure(figsize=(8, 6))
    plt.imshow(img)
    plt.title(f'Prediction: {img_file}')
    plt.axis('off')
    plt.show()
